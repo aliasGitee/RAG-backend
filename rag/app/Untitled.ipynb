{
 "cells": [
  {
   "cell_type": "code",
   "execution_count": 1,
   "id": "ee36d3ab-0032-4065-b882-18e9598b7b12",
   "metadata": {},
   "outputs": [],
   "source": [
    "from pdf2image import convert_from_path\n",
    "\n",
    "# 将 PDF 转换为图像列表（每个页面一张图）\n",
    "images = convert_from_path(\"/root/qw3.pdf\")"
   ]
  },
  {
   "cell_type": "code",
   "execution_count": 2,
   "id": "b977d3c4-fcc2-472d-84a5-b6403dde6256",
   "metadata": {},
   "outputs": [],
   "source": [
    "for i, image in enumerate(images):\n",
    "    image.save(f\"/root/qw3_pdf2/page_{i}.jpg\", \"JPEG\")  # 支持 PNG、JPEG 等格式"
   ]
  },
  {
   "cell_type": "code",
   "execution_count": 4,
   "id": "1151b960-f81b-4ee6-9ff4-5914bcc0bbfc",
   "metadata": {},
   "outputs": [],
   "source": [
    "import subprocess\n",
    "import os\n",
    "\n",
    "result = subprocess.run('bash -c \"source /etc/network_turbo && env | grep proxy\"', shell=True, capture_output=True, text=True)\n",
    "output = result.stdout\n",
    "for line in output.splitlines():\n",
    "    if '=' in line:\n",
    "        var, value = line.split('=', 1)\n",
    "        os.environ[var] = value"
   ]
  },
  {
   "cell_type": "code",
   "execution_count": 5,
   "id": "2c99c750-fbeb-41ca-8b8d-bd6030b6c4b0",
   "metadata": {},
   "outputs": [
    {
     "name": "stderr",
     "output_type": "stream",
     "text": [
      "publaynet-tf_efficientdet_d0.pth.tar?dl=1: 0.00B [00:29, ?B/s]\n"
     ]
    },
    {
     "ename": "KeyboardInterrupt",
     "evalue": "",
     "output_type": "error",
     "traceback": [
      "\u001b[31m---------------------------------------------------------------------------\u001b[39m",
      "\u001b[31mKeyboardInterrupt\u001b[39m                         Traceback (most recent call last)",
      "\u001b[36mCell\u001b[39m\u001b[36m \u001b[39m\u001b[32mIn[5]\u001b[39m\u001b[32m, line 8\u001b[39m\n\u001b[32m      5\u001b[39m image = image[..., ::-\u001b[32m1\u001b[39m] \n\u001b[32m      6\u001b[39m     \u001b[38;5;66;03m# Convert the image from BGR (cv2 default loading style)\u001b[39;00m\n\u001b[32m      7\u001b[39m     \u001b[38;5;66;03m# to RGB\u001b[39;00m\n\u001b[32m----> \u001b[39m\u001b[32m8\u001b[39m model = lp.AutoLayoutModel(\u001b[33m'\u001b[39m\u001b[33mlp://efficientdet/PubLayNet/tf_efficientdet_d0/config\u001b[39m\u001b[33m'\u001b[39m)\n\u001b[32m     10\u001b[39m layout = model.detect(image)\n\u001b[32m     11\u001b[39m lp.draw_box(image, layout, box_width=\u001b[32m3\u001b[39m)\n",
      "\u001b[36mFile \u001b[39m\u001b[32m~/miniconda3/envs/py311/lib/python3.11/site-packages/layoutparser/models/auto_layoutmodel.py:64\u001b[39m, in \u001b[36mAutoLayoutModel\u001b[39m\u001b[34m(config_path, model_path, label_map, device, extra_config)\u001b[39m\n\u001b[32m     62\u001b[39m \u001b[38;5;28;01mfor\u001b[39;00m backend_name \u001b[38;5;129;01min\u001b[39;00m ALL_AVAILABLE_BACKENDS:\n\u001b[32m     63\u001b[39m     \u001b[38;5;28;01mif\u001b[39;00m backend_name \u001b[38;5;129;01min\u001b[39;00m config_path:\n\u001b[32m---> \u001b[39m\u001b[32m64\u001b[39m         \u001b[38;5;28;01mreturn\u001b[39;00m ALL_AVAILABLE_BACKENDS[backend_name](\n\u001b[32m     65\u001b[39m             config_path,\n\u001b[32m     66\u001b[39m             model_path=model_path,\n\u001b[32m     67\u001b[39m             label_map=label_map,\n\u001b[32m     68\u001b[39m             extra_config=extra_config,\n\u001b[32m     69\u001b[39m             device=device,\n\u001b[32m     70\u001b[39m         )\n",
      "\u001b[36mFile \u001b[39m\u001b[32m~/miniconda3/envs/py311/lib/python3.11/site-packages/layoutparser/models/effdet/layoutmodel.py:138\u001b[39m, in \u001b[36mEfficientDetLayoutModel.__init__\u001b[39m\u001b[34m(self, config_path, model_path, label_map, extra_config, enforce_cpu, device)\u001b[39m\n\u001b[32m    134\u001b[39m \u001b[38;5;28mself\u001b[39m.device = device\n\u001b[32m    136\u001b[39m extra_config = extra_config \u001b[38;5;28;01mif\u001b[39;00m extra_config \u001b[38;5;129;01mis\u001b[39;00m \u001b[38;5;129;01mnot\u001b[39;00m \u001b[38;5;28;01mNone\u001b[39;00m \u001b[38;5;28;01melse\u001b[39;00m {}\n\u001b[32m--> \u001b[39m\u001b[32m138\u001b[39m \u001b[38;5;28mself\u001b[39m._initialize_model(config_path, model_path, label_map, extra_config)\n\u001b[32m    140\u001b[39m \u001b[38;5;28mself\u001b[39m.output_confidence_threshold = extra_config.get(\n\u001b[32m    141\u001b[39m     \u001b[33m\"\u001b[39m\u001b[33moutput_confidence_threshold\u001b[39m\u001b[33m\"\u001b[39m, \u001b[38;5;28mself\u001b[39m.DEFAULT_OUTPUT_CONFIDENCE_THRESHOLD\n\u001b[32m    142\u001b[39m )\n\u001b[32m    144\u001b[39m \u001b[38;5;28mself\u001b[39m.preprocessor = InputTransform(\u001b[38;5;28mself\u001b[39m.config.image_size)\n",
      "\u001b[36mFile \u001b[39m\u001b[32m~/miniconda3/envs/py311/lib/python3.11/site-packages/layoutparser/models/effdet/layoutmodel.py:164\u001b[39m, in \u001b[36mEfficientDetLayoutModel._initialize_model\u001b[39m\u001b[34m(self, config_path, model_path, label_map, extra_config)\u001b[39m\n\u001b[32m    161\u001b[39m         label_map = LABEL_MAP_CATALOG[dataset_name]\n\u001b[32m    162\u001b[39m     num_classes = \u001b[38;5;28mlen\u001b[39m(label_map)\n\u001b[32m--> \u001b[39m\u001b[32m164\u001b[39m     model_path = PathManager.get_local_path(model_path)\n\u001b[32m    166\u001b[39m     \u001b[38;5;28mself\u001b[39m.model = create_model(\n\u001b[32m    167\u001b[39m         model_name,\n\u001b[32m    168\u001b[39m         num_classes=num_classes,\n\u001b[32m   (...)\u001b[39m\u001b[32m    171\u001b[39m         checkpoint_path=model_path,\n\u001b[32m    172\u001b[39m     )\n\u001b[32m    173\u001b[39m \u001b[38;5;28;01melse\u001b[39;00m:\n",
      "\u001b[36mFile \u001b[39m\u001b[32m~/miniconda3/envs/py311/lib/python3.11/site-packages/iopath/common/file_io.py:1251\u001b[39m, in \u001b[36mPathManager.get_local_path\u001b[39m\u001b[34m(self, path, force, **kwargs)\u001b[39m\n\u001b[32m   1249\u001b[39m handler = \u001b[38;5;28mself\u001b[39m.__get_path_handler(path)  \u001b[38;5;66;03m# type: ignore\u001b[39;00m\n\u001b[32m   1250\u001b[39m \u001b[38;5;28;01mtry\u001b[39;00m:\n\u001b[32m-> \u001b[39m\u001b[32m1251\u001b[39m     bret = handler._get_local_path(path, force=force, **kwargs)\n\u001b[32m   1252\u001b[39m \u001b[38;5;28;01mexcept\u001b[39;00m \u001b[38;5;167;01mTypeError\u001b[39;00m:\n\u001b[32m   1253\u001b[39m     bret = handler._get_local_path(path, **kwargs)\n",
      "\u001b[36mFile \u001b[39m\u001b[32m~/miniconda3/envs/py311/lib/python3.11/site-packages/layoutparser/models/effdet/catalog.py:64\u001b[39m, in \u001b[36mLayoutParserEfficientDetModelHandler._get_local_path\u001b[39m\u001b[34m(self, path, **kwargs)\u001b[39m\n\u001b[32m     62\u001b[39m \u001b[38;5;28;01melse\u001b[39;00m:\n\u001b[32m     63\u001b[39m     \u001b[38;5;28;01mraise\u001b[39;00m \u001b[38;5;167;01mValueError\u001b[39;00m(\u001b[33mf\u001b[39m\u001b[33m\"\u001b[39m\u001b[33mUnknown data_type \u001b[39m\u001b[38;5;132;01m{\u001b[39;00mdata_type\u001b[38;5;132;01m}\u001b[39;00m\u001b[33m\"\u001b[39m)\n\u001b[32m---> \u001b[39m\u001b[32m64\u001b[39m \u001b[38;5;28;01mreturn\u001b[39;00m PathManager.get_local_path(model_url, **kwargs)\n",
      "\u001b[36mFile \u001b[39m\u001b[32m~/miniconda3/envs/py311/lib/python3.11/site-packages/iopath/common/file_io.py:1251\u001b[39m, in \u001b[36mPathManager.get_local_path\u001b[39m\u001b[34m(self, path, force, **kwargs)\u001b[39m\n\u001b[32m   1249\u001b[39m handler = \u001b[38;5;28mself\u001b[39m.__get_path_handler(path)  \u001b[38;5;66;03m# type: ignore\u001b[39;00m\n\u001b[32m   1250\u001b[39m \u001b[38;5;28;01mtry\u001b[39;00m:\n\u001b[32m-> \u001b[39m\u001b[32m1251\u001b[39m     bret = handler._get_local_path(path, force=force, **kwargs)\n\u001b[32m   1252\u001b[39m \u001b[38;5;28;01mexcept\u001b[39;00m \u001b[38;5;167;01mTypeError\u001b[39;00m:\n\u001b[32m   1253\u001b[39m     bret = handler._get_local_path(path, **kwargs)\n",
      "\u001b[36mFile \u001b[39m\u001b[32m~/miniconda3/envs/py311/lib/python3.11/site-packages/iopath/common/file_io.py:838\u001b[39m, in \u001b[36mHTTPURLHandler._get_local_path\u001b[39m\u001b[34m(self, path, force, cache_dir, **kwargs)\u001b[39m\n\u001b[32m    836\u001b[39m     \u001b[38;5;28;01mif\u001b[39;00m \u001b[38;5;129;01mnot\u001b[39;00m os.path.isfile(cached):\n\u001b[32m    837\u001b[39m         logger.info(\u001b[33m\"\u001b[39m\u001b[33mDownloading \u001b[39m\u001b[38;5;132;01m{}\u001b[39;00m\u001b[33m ...\u001b[39m\u001b[33m\"\u001b[39m.format(path))\n\u001b[32m--> \u001b[39m\u001b[32m838\u001b[39m         cached = download(path, dirname, filename=filename)\n\u001b[32m    839\u001b[39m logger.info(\u001b[33m\"\u001b[39m\u001b[33mURL \u001b[39m\u001b[38;5;132;01m{}\u001b[39;00m\u001b[33m cached in \u001b[39m\u001b[38;5;132;01m{}\u001b[39;00m\u001b[33m\"\u001b[39m.format(path, cached))\n\u001b[32m    840\u001b[39m \u001b[38;5;28mself\u001b[39m.cache_map[path] = cached\n",
      "\u001b[36mFile \u001b[39m\u001b[32m~/miniconda3/envs/py311/lib/python3.11/site-packages/iopath/common/download.py:58\u001b[39m, in \u001b[36mdownload\u001b[39m\u001b[34m(url, dir, filename, progress)\u001b[39m\n\u001b[32m     53\u001b[39m         \u001b[38;5;28;01mreturn\u001b[39;00m inner\n\u001b[32m     55\u001b[39m     \u001b[38;5;28;01mwith\u001b[39;00m tqdm.tqdm(  \u001b[38;5;66;03m# type: ignore\u001b[39;00m\n\u001b[32m     56\u001b[39m         unit=\u001b[33m\"\u001b[39m\u001b[33mB\u001b[39m\u001b[33m\"\u001b[39m, unit_scale=\u001b[38;5;28;01mTrue\u001b[39;00m, miniters=\u001b[32m1\u001b[39m, desc=filename, leave=\u001b[38;5;28;01mTrue\u001b[39;00m\n\u001b[32m     57\u001b[39m     ) \u001b[38;5;28;01mas\u001b[39;00m t:\n\u001b[32m---> \u001b[39m\u001b[32m58\u001b[39m         tmp, _ = request.urlretrieve(url, filename=tmp, reporthook=hook(t))\n\u001b[32m     60\u001b[39m \u001b[38;5;28;01melse\u001b[39;00m:\n\u001b[32m     61\u001b[39m     tmp, _ = request.urlretrieve(url, filename=tmp)\n",
      "\u001b[36mFile \u001b[39m\u001b[32m~/miniconda3/envs/py311/lib/python3.11/urllib/request.py:241\u001b[39m, in \u001b[36murlretrieve\u001b[39m\u001b[34m(url, filename, reporthook, data)\u001b[39m\n\u001b[32m    224\u001b[39m \u001b[38;5;250m\u001b[39m\u001b[33;03m\"\"\"\u001b[39;00m\n\u001b[32m    225\u001b[39m \u001b[33;03mRetrieve a URL into a temporary location on disk.\u001b[39;00m\n\u001b[32m    226\u001b[39m \n\u001b[32m   (...)\u001b[39m\u001b[32m    237\u001b[39m \u001b[33;03mdata file as well as the resulting HTTPMessage object.\u001b[39;00m\n\u001b[32m    238\u001b[39m \u001b[33;03m\"\"\"\u001b[39;00m\n\u001b[32m    239\u001b[39m url_type, path = _splittype(url)\n\u001b[32m--> \u001b[39m\u001b[32m241\u001b[39m \u001b[38;5;28;01mwith\u001b[39;00m contextlib.closing(urlopen(url, data)) \u001b[38;5;28;01mas\u001b[39;00m fp:\n\u001b[32m    242\u001b[39m     headers = fp.info()\n\u001b[32m    244\u001b[39m     \u001b[38;5;66;03m# Just return the local path and the \"headers\" for file://\u001b[39;00m\n\u001b[32m    245\u001b[39m     \u001b[38;5;66;03m# URLs. No sense in performing a copy unless requested.\u001b[39;00m\n",
      "\u001b[36mFile \u001b[39m\u001b[32m~/miniconda3/envs/py311/lib/python3.11/urllib/request.py:216\u001b[39m, in \u001b[36murlopen\u001b[39m\u001b[34m(url, data, timeout, cafile, capath, cadefault, context)\u001b[39m\n\u001b[32m    214\u001b[39m \u001b[38;5;28;01melse\u001b[39;00m:\n\u001b[32m    215\u001b[39m     opener = _opener\n\u001b[32m--> \u001b[39m\u001b[32m216\u001b[39m \u001b[38;5;28;01mreturn\u001b[39;00m opener.open(url, data, timeout)\n",
      "\u001b[36mFile \u001b[39m\u001b[32m~/miniconda3/envs/py311/lib/python3.11/urllib/request.py:519\u001b[39m, in \u001b[36mOpenerDirector.open\u001b[39m\u001b[34m(self, fullurl, data, timeout)\u001b[39m\n\u001b[32m    516\u001b[39m     req = meth(req)\n\u001b[32m    518\u001b[39m sys.audit(\u001b[33m'\u001b[39m\u001b[33murllib.Request\u001b[39m\u001b[33m'\u001b[39m, req.full_url, req.data, req.headers, req.get_method())\n\u001b[32m--> \u001b[39m\u001b[32m519\u001b[39m response = \u001b[38;5;28mself\u001b[39m._open(req, data)\n\u001b[32m    521\u001b[39m \u001b[38;5;66;03m# post-process response\u001b[39;00m\n\u001b[32m    522\u001b[39m meth_name = protocol+\u001b[33m\"\u001b[39m\u001b[33m_response\u001b[39m\u001b[33m\"\u001b[39m\n",
      "\u001b[36mFile \u001b[39m\u001b[32m~/miniconda3/envs/py311/lib/python3.11/urllib/request.py:536\u001b[39m, in \u001b[36mOpenerDirector._open\u001b[39m\u001b[34m(self, req, data)\u001b[39m\n\u001b[32m    533\u001b[39m     \u001b[38;5;28;01mreturn\u001b[39;00m result\n\u001b[32m    535\u001b[39m protocol = req.type\n\u001b[32m--> \u001b[39m\u001b[32m536\u001b[39m result = \u001b[38;5;28mself\u001b[39m._call_chain(\u001b[38;5;28mself\u001b[39m.handle_open, protocol, protocol +\n\u001b[32m    537\u001b[39m                           \u001b[33m'\u001b[39m\u001b[33m_open\u001b[39m\u001b[33m'\u001b[39m, req)\n\u001b[32m    538\u001b[39m \u001b[38;5;28;01mif\u001b[39;00m result:\n\u001b[32m    539\u001b[39m     \u001b[38;5;28;01mreturn\u001b[39;00m result\n",
      "\u001b[36mFile \u001b[39m\u001b[32m~/miniconda3/envs/py311/lib/python3.11/urllib/request.py:496\u001b[39m, in \u001b[36mOpenerDirector._call_chain\u001b[39m\u001b[34m(self, chain, kind, meth_name, *args)\u001b[39m\n\u001b[32m    494\u001b[39m \u001b[38;5;28;01mfor\u001b[39;00m handler \u001b[38;5;129;01min\u001b[39;00m handlers:\n\u001b[32m    495\u001b[39m     func = \u001b[38;5;28mgetattr\u001b[39m(handler, meth_name)\n\u001b[32m--> \u001b[39m\u001b[32m496\u001b[39m     result = func(*args)\n\u001b[32m    497\u001b[39m     \u001b[38;5;28;01mif\u001b[39;00m result \u001b[38;5;129;01mis\u001b[39;00m \u001b[38;5;129;01mnot\u001b[39;00m \u001b[38;5;28;01mNone\u001b[39;00m:\n\u001b[32m    498\u001b[39m         \u001b[38;5;28;01mreturn\u001b[39;00m result\n",
      "\u001b[36mFile \u001b[39m\u001b[32m~/miniconda3/envs/py311/lib/python3.11/urllib/request.py:1391\u001b[39m, in \u001b[36mHTTPSHandler.https_open\u001b[39m\u001b[34m(self, req)\u001b[39m\n\u001b[32m   1390\u001b[39m \u001b[38;5;28;01mdef\u001b[39;00m\u001b[38;5;250m \u001b[39m\u001b[34mhttps_open\u001b[39m(\u001b[38;5;28mself\u001b[39m, req):\n\u001b[32m-> \u001b[39m\u001b[32m1391\u001b[39m     \u001b[38;5;28;01mreturn\u001b[39;00m \u001b[38;5;28mself\u001b[39m.do_open(http.client.HTTPSConnection, req,\n\u001b[32m   1392\u001b[39m         context=\u001b[38;5;28mself\u001b[39m._context, check_hostname=\u001b[38;5;28mself\u001b[39m._check_hostname)\n",
      "\u001b[36mFile \u001b[39m\u001b[32m~/miniconda3/envs/py311/lib/python3.11/urllib/request.py:1348\u001b[39m, in \u001b[36mAbstractHTTPHandler.do_open\u001b[39m\u001b[34m(self, http_class, req, **http_conn_args)\u001b[39m\n\u001b[32m   1346\u001b[39m \u001b[38;5;28;01mtry\u001b[39;00m:\n\u001b[32m   1347\u001b[39m     \u001b[38;5;28;01mtry\u001b[39;00m:\n\u001b[32m-> \u001b[39m\u001b[32m1348\u001b[39m         h.request(req.get_method(), req.selector, req.data, headers,\n\u001b[32m   1349\u001b[39m                   encode_chunked=req.has_header(\u001b[33m'\u001b[39m\u001b[33mTransfer-encoding\u001b[39m\u001b[33m'\u001b[39m))\n\u001b[32m   1350\u001b[39m     \u001b[38;5;28;01mexcept\u001b[39;00m \u001b[38;5;167;01mOSError\u001b[39;00m \u001b[38;5;28;01mas\u001b[39;00m err: \u001b[38;5;66;03m# timeout error\u001b[39;00m\n\u001b[32m   1351\u001b[39m         \u001b[38;5;28;01mraise\u001b[39;00m URLError(err)\n",
      "\u001b[36mFile \u001b[39m\u001b[32m~/miniconda3/envs/py311/lib/python3.11/http/client.py:1303\u001b[39m, in \u001b[36mHTTPConnection.request\u001b[39m\u001b[34m(self, method, url, body, headers, encode_chunked)\u001b[39m\n\u001b[32m   1300\u001b[39m \u001b[38;5;28;01mdef\u001b[39;00m\u001b[38;5;250m \u001b[39m\u001b[34mrequest\u001b[39m(\u001b[38;5;28mself\u001b[39m, method, url, body=\u001b[38;5;28;01mNone\u001b[39;00m, headers={}, *,\n\u001b[32m   1301\u001b[39m             encode_chunked=\u001b[38;5;28;01mFalse\u001b[39;00m):\n\u001b[32m   1302\u001b[39m \u001b[38;5;250m    \u001b[39m\u001b[33;03m\"\"\"Send a complete request to the server.\"\"\"\u001b[39;00m\n\u001b[32m-> \u001b[39m\u001b[32m1303\u001b[39m     \u001b[38;5;28mself\u001b[39m._send_request(method, url, body, headers, encode_chunked)\n",
      "\u001b[36mFile \u001b[39m\u001b[32m~/miniconda3/envs/py311/lib/python3.11/http/client.py:1349\u001b[39m, in \u001b[36mHTTPConnection._send_request\u001b[39m\u001b[34m(self, method, url, body, headers, encode_chunked)\u001b[39m\n\u001b[32m   1345\u001b[39m \u001b[38;5;28;01mif\u001b[39;00m \u001b[38;5;28misinstance\u001b[39m(body, \u001b[38;5;28mstr\u001b[39m):\n\u001b[32m   1346\u001b[39m     \u001b[38;5;66;03m# RFC 2616 Section 3.7.1 says that text default has a\u001b[39;00m\n\u001b[32m   1347\u001b[39m     \u001b[38;5;66;03m# default charset of iso-8859-1.\u001b[39;00m\n\u001b[32m   1348\u001b[39m     body = _encode(body, \u001b[33m'\u001b[39m\u001b[33mbody\u001b[39m\u001b[33m'\u001b[39m)\n\u001b[32m-> \u001b[39m\u001b[32m1349\u001b[39m \u001b[38;5;28mself\u001b[39m.endheaders(body, encode_chunked=encode_chunked)\n",
      "\u001b[36mFile \u001b[39m\u001b[32m~/miniconda3/envs/py311/lib/python3.11/http/client.py:1298\u001b[39m, in \u001b[36mHTTPConnection.endheaders\u001b[39m\u001b[34m(self, message_body, encode_chunked)\u001b[39m\n\u001b[32m   1296\u001b[39m \u001b[38;5;28;01melse\u001b[39;00m:\n\u001b[32m   1297\u001b[39m     \u001b[38;5;28;01mraise\u001b[39;00m CannotSendHeader()\n\u001b[32m-> \u001b[39m\u001b[32m1298\u001b[39m \u001b[38;5;28mself\u001b[39m._send_output(message_body, encode_chunked=encode_chunked)\n",
      "\u001b[36mFile \u001b[39m\u001b[32m~/miniconda3/envs/py311/lib/python3.11/http/client.py:1058\u001b[39m, in \u001b[36mHTTPConnection._send_output\u001b[39m\u001b[34m(self, message_body, encode_chunked)\u001b[39m\n\u001b[32m   1056\u001b[39m msg = \u001b[33mb\u001b[39m\u001b[33m\"\u001b[39m\u001b[38;5;130;01m\\r\u001b[39;00m\u001b[38;5;130;01m\\n\u001b[39;00m\u001b[33m\"\u001b[39m.join(\u001b[38;5;28mself\u001b[39m._buffer)\n\u001b[32m   1057\u001b[39m \u001b[38;5;28;01mdel\u001b[39;00m \u001b[38;5;28mself\u001b[39m._buffer[:]\n\u001b[32m-> \u001b[39m\u001b[32m1058\u001b[39m \u001b[38;5;28mself\u001b[39m.send(msg)\n\u001b[32m   1060\u001b[39m \u001b[38;5;28;01mif\u001b[39;00m message_body \u001b[38;5;129;01mis\u001b[39;00m \u001b[38;5;129;01mnot\u001b[39;00m \u001b[38;5;28;01mNone\u001b[39;00m:\n\u001b[32m   1061\u001b[39m \n\u001b[32m   1062\u001b[39m     \u001b[38;5;66;03m# create a consistent interface to message_body\u001b[39;00m\n\u001b[32m   1063\u001b[39m     \u001b[38;5;28;01mif\u001b[39;00m \u001b[38;5;28mhasattr\u001b[39m(message_body, \u001b[33m'\u001b[39m\u001b[33mread\u001b[39m\u001b[33m'\u001b[39m):\n\u001b[32m   1064\u001b[39m         \u001b[38;5;66;03m# Let file-like take precedence over byte-like.  This\u001b[39;00m\n\u001b[32m   1065\u001b[39m         \u001b[38;5;66;03m# is needed to allow the current position of mmap'ed\u001b[39;00m\n\u001b[32m   1066\u001b[39m         \u001b[38;5;66;03m# files to be taken into account.\u001b[39;00m\n",
      "\u001b[36mFile \u001b[39m\u001b[32m~/miniconda3/envs/py311/lib/python3.11/http/client.py:996\u001b[39m, in \u001b[36mHTTPConnection.send\u001b[39m\u001b[34m(self, data)\u001b[39m\n\u001b[32m    994\u001b[39m \u001b[38;5;28;01mif\u001b[39;00m \u001b[38;5;28mself\u001b[39m.sock \u001b[38;5;129;01mis\u001b[39;00m \u001b[38;5;28;01mNone\u001b[39;00m:\n\u001b[32m    995\u001b[39m     \u001b[38;5;28;01mif\u001b[39;00m \u001b[38;5;28mself\u001b[39m.auto_open:\n\u001b[32m--> \u001b[39m\u001b[32m996\u001b[39m         \u001b[38;5;28mself\u001b[39m.connect()\n\u001b[32m    997\u001b[39m     \u001b[38;5;28;01melse\u001b[39;00m:\n\u001b[32m    998\u001b[39m         \u001b[38;5;28;01mraise\u001b[39;00m NotConnected()\n",
      "\u001b[36mFile \u001b[39m\u001b[32m~/miniconda3/envs/py311/lib/python3.11/http/client.py:1468\u001b[39m, in \u001b[36mHTTPSConnection.connect\u001b[39m\u001b[34m(self)\u001b[39m\n\u001b[32m   1465\u001b[39m \u001b[38;5;28;01mdef\u001b[39;00m\u001b[38;5;250m \u001b[39m\u001b[34mconnect\u001b[39m(\u001b[38;5;28mself\u001b[39m):\n\u001b[32m   1466\u001b[39m     \u001b[33m\"\u001b[39m\u001b[33mConnect to a host on a given (SSL) port.\u001b[39m\u001b[33m\"\u001b[39m\n\u001b[32m-> \u001b[39m\u001b[32m1468\u001b[39m     \u001b[38;5;28msuper\u001b[39m().connect()\n\u001b[32m   1470\u001b[39m     \u001b[38;5;28;01mif\u001b[39;00m \u001b[38;5;28mself\u001b[39m._tunnel_host:\n\u001b[32m   1471\u001b[39m         server_hostname = \u001b[38;5;28mself\u001b[39m._tunnel_host\n",
      "\u001b[36mFile \u001b[39m\u001b[32m~/miniconda3/envs/py311/lib/python3.11/http/client.py:962\u001b[39m, in \u001b[36mHTTPConnection.connect\u001b[39m\u001b[34m(self)\u001b[39m\n\u001b[32m    960\u001b[39m \u001b[38;5;250m\u001b[39m\u001b[33;03m\"\"\"Connect to the host and port specified in __init__.\"\"\"\u001b[39;00m\n\u001b[32m    961\u001b[39m sys.audit(\u001b[33m\"\u001b[39m\u001b[33mhttp.client.connect\u001b[39m\u001b[33m\"\u001b[39m, \u001b[38;5;28mself\u001b[39m, \u001b[38;5;28mself\u001b[39m.host, \u001b[38;5;28mself\u001b[39m.port)\n\u001b[32m--> \u001b[39m\u001b[32m962\u001b[39m \u001b[38;5;28mself\u001b[39m.sock = \u001b[38;5;28mself\u001b[39m._create_connection(\n\u001b[32m    963\u001b[39m     (\u001b[38;5;28mself\u001b[39m.host,\u001b[38;5;28mself\u001b[39m.port), \u001b[38;5;28mself\u001b[39m.timeout, \u001b[38;5;28mself\u001b[39m.source_address)\n\u001b[32m    964\u001b[39m \u001b[38;5;66;03m# Might fail in OSs that don't implement TCP_NODELAY\u001b[39;00m\n\u001b[32m    965\u001b[39m \u001b[38;5;28;01mtry\u001b[39;00m:\n",
      "\u001b[36mFile \u001b[39m\u001b[32m~/miniconda3/envs/py311/lib/python3.11/socket.py:848\u001b[39m, in \u001b[36mcreate_connection\u001b[39m\u001b[34m(address, timeout, source_address, all_errors)\u001b[39m\n\u001b[32m    846\u001b[39m \u001b[38;5;28;01mif\u001b[39;00m source_address:\n\u001b[32m    847\u001b[39m     sock.bind(source_address)\n\u001b[32m--> \u001b[39m\u001b[32m848\u001b[39m sock.connect(sa)\n\u001b[32m    849\u001b[39m \u001b[38;5;66;03m# Break explicitly a reference cycle\u001b[39;00m\n\u001b[32m    850\u001b[39m exceptions.clear()\n",
      "\u001b[31mKeyboardInterrupt\u001b[39m: "
     ]
    }
   ],
   "source": [
    "import layoutparser as lp\n",
    "import cv2\n",
    "\n",
    "image = cv2.imread(\"/root/images/page_0.jpg\")\n",
    "image = image[..., ::-1] \n",
    "    # Convert the image from BGR (cv2 default loading style)\n",
    "    # to RGB\n",
    "model = lp.AutoLayoutModel('lp://efficientdet/PubLayNet/tf_efficientdet_d0/config')\n",
    "\n",
    "layout = model.detect(image)\n",
    "lp.draw_box(image, layout, box_width=3)"
   ]
  },
  {
   "cell_type": "code",
   "execution_count": 10,
   "id": "af4412d9-626c-4cb5-abb8-0f5c4af1a455",
   "metadata": {},
   "outputs": [
    {
     "data": {
      "text/plain": [
       "<module 'layoutparser' from '/root/miniconda3/envs/py311/lib/python3.11/site-packages/layoutparser/__init__.py'>"
      ]
     },
     "execution_count": 10,
     "metadata": {},
     "output_type": "execute_result"
    }
   ],
   "source": [
    "python deepdoc/vision/t_recognizer.py --inputs=/root/images/page_9.jpg --threshold=0.2 --mode=layout --output_dir=/root/outs\n"
   ]
  }
 ],
 "metadata": {
  "kernelspec": {
   "display_name": "py311",
   "language": "python",
   "name": "py311"
  },
  "language_info": {
   "codemirror_mode": {
    "name": "ipython",
    "version": 3
   },
   "file_extension": ".py",
   "mimetype": "text/x-python",
   "name": "python",
   "nbconvert_exporter": "python",
   "pygments_lexer": "ipython3",
   "version": "3.11.13"
  }
 },
 "nbformat": 4,
 "nbformat_minor": 5
}
